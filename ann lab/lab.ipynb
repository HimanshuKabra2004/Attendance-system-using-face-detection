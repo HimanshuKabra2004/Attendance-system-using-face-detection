{
 "cells": [
  {
   "cell_type": "code",
   "execution_count": null,
   "metadata": {},
   "outputs": [
    {
     "ename": "",
     "evalue": "",
     "output_type": "error",
     "traceback": [
      "\u001b[1;31mRunning cells with 'Python 3.12.5' requires the ipykernel package.\n",
      "\u001b[1;31mRun the following command to install 'ipykernel' into the Python environment. \n",
      "\u001b[1;31mCommand: 'c:/Users/himan/AppData/Local/Programs/Python/Python312/python.exe -m pip install ipykernel -U --user --force-reinstall'"
     ]
    }
   ],
   "source": [
    "import numpy as np\n",
    "\n",
    "w1 = 0\n",
    "w2 = 0\n",
    "b = 0\n",
    "\n",
    "x1 = np.array([-1, -1, 1, 1])\n",
    "x2 = np.array([-1, 1, -1, 1])\n",
    "t_a = np.array([-1, -1, -1, 1]) \n",
    "t_o=np.array([-1,1,1,1])\n",
    "t_n=np.array([-1,-1,1,1])\n",
    "net = 0.1\n",
    "\n",
    "epoch = 0\n",
    "print(\"AND\")\n",
    "while epoch <= 2:\n",
    "    for i in range(4):\n",
    "        \n",
    "        \n",
    "        w1 = w1 + net * (t_a[i] - output) * x1[i]\n",
    "        w2 = w2 + net * (t_a[i] - output) * x2[i]\n",
    "        b = b + net * (t_a[i] - output)\n",
    "        \n",
    "        print(f\"Epoch {epoch + 1}, Input ({x1[i]}, {x2[i]}), Output {output}, Updated weights: w1={w1}, w2={w2}, b={b}\")\n",
    "        \n",
    "    \n",
    "    epoch += 1\n",
    "    print()"
   ]
  },
  {
   "cell_type": "code",
   "execution_count": 3,
   "metadata": {},
   "outputs": [
    {
     "ename": "IndentationError",
     "evalue": "unindent does not match any outer indentation level (<string>, line 27)",
     "output_type": "error",
     "traceback": [
      "\u001b[1;36m  File \u001b[1;32m<string>:27\u001b[1;36m\u001b[0m\n\u001b[1;33m    \u001b[0m\n\u001b[1;37m    ^\u001b[0m\n\u001b[1;31mIndentationError\u001b[0m\u001b[1;31m:\u001b[0m unindent does not match any outer indentation level\n"
     ]
    }
   ],
   "source": [
    "import numpy as np\n",
    "\n",
    "w1 = 0\n",
    "w2 = 0\n",
    "b = 0\n",
    "\n",
    "x1 = np.array([0, 0, 1, 1])\n",
    "x2 = np.array([0, 1, 0, 1])\n",
    "t = np.array([0, 0, 0, 1]) \n",
    "\n",
    "net = 0.1\n",
    "\n",
    "epoch = 0\n",
    "while epoch <= 2:\n",
    "    for i in range(4):\n",
    "        summation = w1 * x1[i] + w2 * x2[i] + b\n",
    "        if summation >= 0:\n",
    "            output = 1\n",
    "        else:\n",
    "            output = 0\n",
    "        \n",
    "        w1 = w1 + net * (t[i] - output) * x1[i]\n",
    "        w2 = w2 + net * (t[i] - output) * x2[i]\n",
    "        b = b + net * (t[i] - output)\n",
    "        \n",
    "        print(f\"Epoch {epoch + 1}, Input ({x1[i]}, {x2[i]}), Output {output}, Updated weights: w1={w1}, w2={w2}, b={b}\")\n",
    "    \n",
    "    epoch += 1"
   ]
  },
  {
   "cell_type": "code",
   "execution_count": 6,
   "metadata": {},
   "outputs": [
    {
     "ename": "ModuleNotFoundError",
     "evalue": "No module named 'numpy'",
     "output_type": "error",
     "traceback": [
      "\u001b[1;31m---------------------------------------------------------------------------\u001b[0m",
      "\u001b[1;31mModuleNotFoundError\u001b[0m                       Traceback (most recent call last)",
      "Cell \u001b[1;32mIn[6], line 1\u001b[0m\n\u001b[1;32m----> 1\u001b[0m \u001b[38;5;28;01mimport\u001b[39;00m \u001b[38;5;21;01mnumpy\u001b[39;00m \u001b[38;5;28;01mas\u001b[39;00m \u001b[38;5;21;01mnp\u001b[39;00m\n\u001b[0;32m      3\u001b[0m w1 \u001b[38;5;241m=\u001b[39m \u001b[38;5;241m0\u001b[39m\n\u001b[0;32m      4\u001b[0m w2 \u001b[38;5;241m=\u001b[39m \u001b[38;5;241m0\u001b[39m\n",
      "\u001b[1;31mModuleNotFoundError\u001b[0m: No module named 'numpy'"
     ]
    }
   ],
   "source": [
    "import numpy as np\n",
    "\n",
    "w1 = 0\n",
    "w2 = 0\n",
    "b = 0\n",
    "\n",
    "x1 = np.array([0, 0, 1, 1])\n",
    "x2 = np.array([0, 1, 0, 1])\n",
    "t = np.array([0, 0, 0, 1]) \n",
    "\n",
    "net = 0.1\n",
    "\n",
    "epoch = 0\n",
    "while epoch <= 2:\n",
    "    for i in range(4):\n",
    "        summation = w1 * x1[i] + w2 * x2[i] + b\n",
    "        if summation >= 0:\n",
    "            output = 1\n",
    "        else:\n",
    "            output = 0\n",
    "        \n",
    "        w1 = w1 + net * (t[i] - output) * x1[i]\n",
    "        w2 = w2 + net * (t[i] - output) * x2[i]\n",
    "        b = b + net * (t[i] - output)\n",
    "        \n",
    "        print(f\"Epoch {epoch + 1}, Input ({x1[i]}, {x2[i]}), Output {output}, Updated weights: w1={w1}, w2={w2}, b={b}\")\n",
    "    epoch += 1"
   ]
  },
  {
   "cell_type": "code",
   "execution_count": 1,
   "metadata": {},
   "outputs": [
    {
     "name": "stdout",
     "output_type": "stream",
     "text": [
      "Defaulting to user installation because normal site-packages is not writeable\n",
      "Requirement already satisfied: numpy in c:\\programdata\\anaconda3\\lib\\site-packages (1.26.4)\n"
     ]
    }
   ],
   "source": [
    "! pip install numpy\n",
    " "
   ]
  },
  {
   "cell_type": "code",
   "execution_count": null,
   "metadata": {},
   "outputs": [],
   "source": [
    "import numpy as np\n",
    "\n",
    "w1 = 0\n",
    "w2 = 0\n",
    "b = 0\n",
    "\n",
    "x1 = np.array([0, 0, 1, 1])\n",
    "x2 = np.array([0, 1, 0, 1])\n",
    "t = np.array([0, 0, 0, 1]) \n",
    "\n",
    "net = 0.1\n",
    "\n",
    "epoch = 0\n",
    "while epoch <= 2:\n",
    "    for i in range(4):\n",
    "        summation = w1 * x1[i] + w2 * x2[i] + b\n",
    "        \n",
    "        if summation >= 0:\n",
    "            output = 1\n",
    "        else:\n",
    "            output = 0\n",
    "        \n",
    "        w1 = w1 + current_learning_rate * (t[i] - output) * x1[i]\n",
    "        w2 = w2 + current_learning_rate * (t[i] - output) * x2[i]\n",
    "        b = b + current_learning_rate * (t[i] - output)\n",
    "        \n",
    "        print(f\"Epoch {epoch + 1}, Input ({x1[i]}, {x2[i]}), Output {output}, Updated weights: w1={w1}, w2={w2}, b={b}\")\n",
    "    \n",
    "    epoch += 1\n"
   ]
  },
  {
   "cell_type": "code",
   "execution_count": null,
   "metadata": {},
   "outputs": [],
   "source": [
    "test_cases = [(-1, -1), (-1, 1), (1, -1), (1, 1)]\n",
    "w1,w2= 1,1\n",
    "threshold = 2\n",
    "\n",
    "def cal(inputs):\n",
    "    a,b=inputs\n",
    "    v = (w1*a) + (w2*b)\n",
    "    if (v>=threshold):\n",
    "        return 1\n",
    "    else:\n",
    "        return 0\n",
    "for inputs in test_cases:\n",
    "    output = cal(inputs)\n",
    "    print(f\"Inputs: {inputs}, Output: {output}\")"
   ]
  }
 ],
 "metadata": {
  "kernelspec": {
   "display_name": "Python 3",
   "language": "python",
   "name": "python3"
  },
  "language_info": {
   "codemirror_mode": {
    "name": "ipython",
    "version": 3
   },
   "file_extension": ".py",
   "mimetype": "text/x-python",
   "name": "python",
   "nbconvert_exporter": "python",
   "pygments_lexer": "ipython3",
   "version": "3.12.5"
  }
 },
 "nbformat": 4,
 "nbformat_minor": 2
}
