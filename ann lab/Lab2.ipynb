{
 "cells": [
  {
   "cell_type": "markdown",
   "id": "4fdb23d3-df69-424a-84e0-d4f4d43b2587",
   "metadata": {},
   "source": [
    "# Objective"
   ]
  },
  {
   "cell_type": "markdown",
   "id": "accf217f-e973-441b-ad9a-4caa0040733a",
   "metadata": {},
   "source": [
    "#### Implement the perception model model for basic logical function like logical and, logical or and logical not"
   ]
  },
  {
   "cell_type": "code",
   "execution_count": 29,
   "id": "4844921c-488e-4fd3-9948-f68a32d60e0b",
   "metadata": {},
   "outputs": [
    {
     "name": "stdout",
     "output_type": "stream",
     "text": [
      "Epoch 1, Input (-1, -1), Output 1, Updated weights: w1=0.1, w2=0.1, b=-0.1\n",
      "Epoch 1, Input (-1, 1), Output 0, Updated weights: w1=0.2, w2=0.0, b=-0.2\n",
      "Epoch 1, Input (1, -1), Output 1, Updated weights: w1=0.1, w2=0.1, b=-0.30000000000000004\n",
      "Epoch 1, Input (1, 1), Output 0, Updated weights: w1=0.2, w2=0.2, b=-0.20000000000000004\n",
      "\n",
      "Epoch 2, Input (-1, -1), Output 0, Updated weights: w1=0.30000000000000004, w2=0.30000000000000004, b=-0.30000000000000004\n",
      "Epoch 2, Input (-1, 1), Output 0, Updated weights: w1=0.4, w2=0.20000000000000004, b=-0.4\n",
      "Epoch 2, Input (1, -1), Output 0, Updated weights: w1=0.30000000000000004, w2=0.30000000000000004, b=-0.5\n",
      "Epoch 2, Input (1, 1), Output 1, Updated weights: w1=0.4, w2=0.4, b=-0.4\n",
      "\n",
      "Epoch 3, Input (-1, -1), Output 0, Updated weights: w1=0.5, w2=0.5, b=-0.5\n",
      "Epoch 3, Input (-1, 1), Output 0, Updated weights: w1=0.6, w2=0.4, b=-0.6\n",
      "Epoch 3, Input (1, -1), Output 0, Updated weights: w1=0.5, w2=0.5, b=-0.7\n",
      "Epoch 3, Input (1, 1), Output 1, Updated weights: w1=0.6, w2=0.6, b=-0.6\n",
      "\n",
      "Epoch 4, Input (-1, -1), Output 0, Updated weights: w1=0.7, w2=0.7, b=-0.7\n",
      "Epoch 4, Input (-1, 1), Output 0, Updated weights: w1=0.7999999999999999, w2=0.6, b=-0.7999999999999999\n",
      "Epoch 4, Input (1, -1), Output 0, Updated weights: w1=0.7, w2=0.7, b=-0.8999999999999999\n",
      "Epoch 4, Input (1, 1), Output 1, Updated weights: w1=0.7999999999999999, w2=0.7999999999999999, b=-0.7999999999999999\n",
      "\n",
      "Epoch 5, Input (-1, -1), Output 0, Updated weights: w1=0.8999999999999999, w2=0.8999999999999999, b=-0.8999999999999999\n",
      "Epoch 5, Input (-1, 1), Output 0, Updated weights: w1=0.9999999999999999, w2=0.7999999999999999, b=-0.9999999999999999\n",
      "Epoch 5, Input (1, -1), Output 0, Updated weights: w1=0.8999999999999999, w2=0.8999999999999999, b=-1.0999999999999999\n",
      "Epoch 5, Input (1, 1), Output 1, Updated weights: w1=0.9999999999999999, w2=0.9999999999999999, b=-0.9999999999999999\n",
      "\n",
      "Epoch 6, Input (-1, -1), Output 0, Updated weights: w1=1.0999999999999999, w2=1.0999999999999999, b=-1.0999999999999999\n",
      "Epoch 6, Input (-1, 1), Output 0, Updated weights: w1=1.2, w2=0.9999999999999999, b=-1.2\n",
      "Epoch 6, Input (1, -1), Output 0, Updated weights: w1=1.0999999999999999, w2=1.0999999999999999, b=-1.3\n",
      "Epoch 6, Input (1, 1), Output 1, Updated weights: w1=1.2, w2=1.2, b=-1.2\n",
      "\n",
      "Epoch 7, Input (-1, -1), Output 0, Updated weights: w1=1.3, w2=1.3, b=-1.3\n",
      "Epoch 7, Input (-1, 1), Output 0, Updated weights: w1=1.4000000000000001, w2=1.2, b=-1.4000000000000001\n",
      "Epoch 7, Input (1, -1), Output 0, Updated weights: w1=1.3, w2=1.3, b=-1.5000000000000002\n",
      "Epoch 7, Input (1, 1), Output 1, Updated weights: w1=1.4000000000000001, w2=1.4000000000000001, b=-1.4000000000000001\n",
      "\n",
      "Epoch 8, Input (-1, -1), Output 0, Updated weights: w1=1.5000000000000002, w2=1.5000000000000002, b=-1.5000000000000002\n",
      "Epoch 8, Input (-1, 1), Output 0, Updated weights: w1=1.6000000000000003, w2=1.4000000000000001, b=-1.6000000000000003\n",
      "Epoch 8, Input (1, -1), Output 0, Updated weights: w1=1.5000000000000002, w2=1.5000000000000002, b=-1.7000000000000004\n",
      "Epoch 8, Input (1, 1), Output 1, Updated weights: w1=1.6000000000000003, w2=1.6000000000000003, b=-1.6000000000000003\n",
      "\n",
      "Epoch 9, Input (-1, -1), Output 0, Updated weights: w1=1.7000000000000004, w2=1.7000000000000004, b=-1.7000000000000004\n",
      "Epoch 9, Input (-1, 1), Output 0, Updated weights: w1=1.8000000000000005, w2=1.6000000000000003, b=-1.8000000000000005\n",
      "Epoch 9, Input (1, -1), Output 0, Updated weights: w1=1.7000000000000004, w2=1.7000000000000004, b=-1.9000000000000006\n",
      "Epoch 9, Input (1, 1), Output 1, Updated weights: w1=1.8000000000000005, w2=1.8000000000000005, b=-1.8000000000000005\n",
      "\n",
      "Epoch 10, Input (-1, -1), Output 0, Updated weights: w1=1.9000000000000006, w2=1.9000000000000006, b=-1.9000000000000006\n",
      "Epoch 10, Input (-1, 1), Output 0, Updated weights: w1=2.0000000000000004, w2=1.8000000000000005, b=-2.0000000000000004\n",
      "Epoch 10, Input (1, -1), Output 0, Updated weights: w1=1.9000000000000004, w2=1.9000000000000006, b=-2.1000000000000005\n",
      "Epoch 10, Input (1, 1), Output 1, Updated weights: w1=2.0000000000000004, w2=2.0000000000000004, b=-2.0000000000000004\n",
      "\n"
     ]
    }
   ],
   "source": [
    "w1 = w2 = b = 0\n",
    "\n",
    "x1 = [-1, -1, 1, 1]\n",
    "x2 = [-1, 1, -1, 1]\n",
    "t = [-1, -1, -1, 1] \n",
    "\n",
    "n = 0.1\n",
    "\n",
    "epoch = 0\n",
    "while epoch < 10:\n",
    "    for i in range(4):\n",
    "        theta = w1 * x1[i] + w2 * x2[i] + b\n",
    "        if theta >= 0:\n",
    "            output = 1\n",
    "        else:\n",
    "            output = 0\n",
    "        \n",
    "        w1 = w1 + n * (t[i] ) * x1[i]\n",
    "        w2 = w2 + n * (t[i] ) * x2[i]\n",
    "        b = b + n * (t[i] )\n",
    "        \n",
    "        print(f\"Epoch {epoch + 1}, Input ({x1[i]}, {x2[i]}), Output {output}, Updated weights: w1={w1}, w2={w2}, b={b}\")\n",
    "    print()\n",
    "    epoch += 1"
   ]
  },
  {
   "cell_type": "code",
   "execution_count": 43,
   "id": "c51714c5-0515-47c3-9ff6-491286d5dddd",
   "metadata": {},
   "outputs": [
    {
     "name": "stdout",
     "output_type": "stream",
     "text": [
      "Input (-1, -1), Output -1\n",
      "Input (-1, 1), Output -1\n",
      "Input (1, -1), Output -1\n",
      "Input (1, 1), Output 1\n",
      "\n"
     ]
    }
   ],
   "source": [
    "w1 = 2\n",
    "w2 = 2\n",
    "b = -2\n",
    "\n",
    "x1 = [-1, -1, 1, 1]\n",
    "x2 = [-1, 1, -1, 1]\n",
    "v = [0,0,0,0] \n",
    "y = [0,0,0,0] \n",
    "\n",
    "n = 0.1\n",
    "\n",
    "for i in range(4):\n",
    "    v[i] = w1 * x1[i] + w2 * x2[i] + b\n",
    "    if v[i] >= 0:\n",
    "        y[i] = 1\n",
    "    else:\n",
    "        y[i] = -1\n",
    "    \n",
    "    print(f\"Input ({x1[i]}, {x2[i]}), Output {y[i]}\")\n",
    "print()\n",
    "epoch += 1"
   ]
  }
 ],
 "metadata": {
  "kernelspec": {
   "display_name": "Python 3 (ipykernel)",
   "language": "python",
   "name": "python3"
  },
  "language_info": {
   "codemirror_mode": {
    "name": "ipython",
    "version": 3
   },
   "file_extension": ".py",
   "mimetype": "text/x-python",
   "name": "python",
   "nbconvert_exporter": "python",
   "pygments_lexer": "ipython3",
   "version": "3.11.7"
  }
 },
 "nbformat": 4,
 "nbformat_minor": 5
}
