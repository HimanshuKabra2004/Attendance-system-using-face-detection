{
 "cells": [
  {
   "cell_type": "code",
   "execution_count": 1,
   "metadata": {},
   "outputs": [
    {
     "name": "stdout",
     "output_type": "stream",
     "text": [
      "[1 1 1]\n",
      "[0 2 0]\n",
      "[ 1  1 -1]\n",
      "[ 2  2 -2]\n"
     ]
    }
   ],
   "source": [
    "import numpy as np\n",
    "x=np.array(((1,1,1),(1,-1,1),(-1,1,1),(-1,-1,1)))\n",
    "y=np.array((1,-1,-1,-1))\n",
    "w=np.array((0,0,0))\n",
    "\n",
    "for i in range(0,4):\n",
    "    h_w= np.dot(x[i],y[i])\n",
    "    w=w + h_w\n",
    "    print (w)"
   ]
  },
  {
   "cell_type": "code",
   "execution_count": 2,
   "metadata": {},
   "outputs": [
    {
     "name": "stdout",
     "output_type": "stream",
     "text": [
      "Inputs: (-1, -1), Output: 0\n",
      "Inputs: (-1, 1), Output: 0\n",
      "Inputs: (1, -1), Output: 0\n",
      "Inputs: (1, 1), Output: 1\n"
     ]
    }
   ],
   "source": [
    "test_cases = [(-1, -1), (-1, 1), (1, -1), (1, 1)]\n",
    "w1,w2= 1,1\n",
    "threshold = 2\n",
    "\n",
    "def cal(inputs):\n",
    "    a,b=inputs\n",
    "    v = (w1*a) + (w2*b)\n",
    "    if (v>=threshold):\n",
    "        return 1\n",
    "    else:\n",
    "        return 0\n",
    "for inputs in test_cases:\n",
    "    output = cal(inputs)\n",
    "    print(f\"Inputs: {inputs}, Output: {output}\")"
   ]
  }
 ],
 "metadata": {
  "kernelspec": {
   "display_name": "Python 3",
   "language": "python",
   "name": "python3"
  },
  "language_info": {
   "codemirror_mode": {
    "name": "ipython",
    "version": 3
   },
   "file_extension": ".py",
   "mimetype": "text/x-python",
   "name": "python",
   "nbconvert_exporter": "python",
   "pygments_lexer": "ipython3",
   "version": "3.12.5"
  }
 },
 "nbformat": 4,
 "nbformat_minor": 2
}
