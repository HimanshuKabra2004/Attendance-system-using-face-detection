{
 "cells": [
  {
   "cell_type": "code",
   "execution_count": 1,
   "id": "da06f38f",
   "metadata": {},
   "outputs": [],
   "source": [
    "# import numpy as np\n",
    "# w1=w2=b=0\n",
    "# epochs=0\n",
    "# while(epochs<2):\n",
    "#     for i in range (3):\n",
    "#             w1=w1+0.1*t[i]*x1[i]\n",
    "#             w2=w2+0.1*t[i]*x2[i]\n",
    "#             b=b+0.1*t(i)\n",
    "#     epochs=epochs+1\n",
    "# print(w1)\n",
    "# print(w2)\n",
    "# print(b)"
   ]
  },
  {
   "cell_type": "code",
   "execution_count": 3,
   "id": "63294fe9",
   "metadata": {},
   "outputs": [
    {
     "name": "stdout",
     "output_type": "stream",
     "text": [
      "AND\n",
      "Epoch 1, Input (-1, -1), Output [-1 -1 -1  1], Updated weights: w1=[0.  0.  0.  0.2], w2=[0.  0.  0.  0.2], b=[ 0.   0.   0.  -0.2]\n",
      "Epoch 1, Input (-1, 1), Output [-1 -1 -1  1], Updated weights: w1=[0.  0.  0.  0.4], w2=[0. 0. 0. 0.], b=[ 0.   0.   0.  -0.4]\n",
      "Epoch 1, Input (1, -1), Output [-1 -1 -1  1], Updated weights: w1=[0.  0.  0.  0.2], w2=[0.  0.  0.  0.2], b=[ 0.   0.   0.  -0.6]\n",
      "Epoch 1, Input (1, 1), Output [-1 -1 -1  1], Updated weights: w1=[0.2 0.2 0.2 0.2], w2=[0.2 0.2 0.2 0.2], b=[ 0.2  0.2  0.2 -0.6]\n",
      "\n",
      "Epoch 2, Input (-1, -1), Output [-1 -1 -1  1], Updated weights: w1=[0.2 0.2 0.2 0.4], w2=[0.2 0.2 0.2 0.4], b=[ 0.2  0.2  0.2 -0.8]\n",
      "Epoch 2, Input (-1, 1), Output [-1 -1 -1  1], Updated weights: w1=[0.2 0.2 0.2 0.6], w2=[0.2 0.2 0.2 0.2], b=[ 0.2  0.2  0.2 -1. ]\n",
      "Epoch 2, Input (1, -1), Output [-1 -1 -1  1], Updated weights: w1=[0.2 0.2 0.2 0.4], w2=[0.2 0.2 0.2 0.4], b=[ 0.2  0.2  0.2 -1.2]\n",
      "Epoch 2, Input (1, 1), Output [-1 -1 -1  1], Updated weights: w1=[0.4 0.4 0.4 0.4], w2=[0.4 0.4 0.4 0.4], b=[ 0.4  0.4  0.4 -1.2]\n",
      "\n",
      "Epoch 3, Input (-1, -1), Output [-1 -1 -1  1], Updated weights: w1=[0.4 0.4 0.4 0.6], w2=[0.4 0.4 0.4 0.6], b=[ 0.4  0.4  0.4 -1.4]\n",
      "Epoch 3, Input (-1, 1), Output [-1 -1 -1  1], Updated weights: w1=[0.4 0.4 0.4 0.8], w2=[0.4 0.4 0.4 0.4], b=[ 0.4  0.4  0.4 -1.6]\n",
      "Epoch 3, Input (1, -1), Output [-1 -1 -1  1], Updated weights: w1=[0.4 0.4 0.4 0.6], w2=[0.4 0.4 0.4 0.6], b=[ 0.4  0.4  0.4 -1.8]\n",
      "Epoch 3, Input (1, 1), Output [-1 -1 -1  1], Updated weights: w1=[0.6 0.6 0.6 0.6], w2=[0.6 0.6 0.6 0.6], b=[ 0.6  0.6  0.6 -1.8]\n",
      "\n",
      "OR\n",
      "NOT\n"
     ]
    }
   ],
   "source": [
    "# exp 5\n",
    "import numpy as np\n",
    "\n",
    "w1 = 0\n",
    "w2 = 0\n",
    "b = 0\n",
    "\n",
    "x1 = np.array([-1, -1, 1, 1])\n",
    "x2 = np.array([-1, 1, -1, 1])\n",
    "t_a = np.array([-1, -1, -1, 1]) \n",
    "t_o=np.array([-1,1,1,1])\n",
    "t_n=np.array([-1,-1,1,1])\n",
    "learning_rate = 0.1\n",
    "\n",
    "epoch = 0\n",
    "print(\"AND\")\n",
    "while epoch <= 2:\n",
    "    for i in range(4):\n",
    "        \n",
    "        \n",
    "        w1 = w1 + learning_rate * (t_a[i] - t_a) * x1[i]\n",
    "        w2 = w2 + learning_rate * (t_a[i] - t_a) * x2[i]\n",
    "        b = b + learning_rate * (t_a[i] - t_a)\n",
    "        \n",
    "        print(f\"Epoch {epoch + 1}, Input ({x1[i]}, {x2[i]}), Output {t_a}, Updated weights: w1={w1}, w2={w2}, b={b}\")\n",
    "        \n",
    "    \n",
    "    epoch += 1\n",
    "    print()\n",
    "    \n",
    "print(\"OR\")\n",
    "while epoch <= 2:\n",
    "    for i in range(4):\n",
    "        \n",
    "        \n",
    "        w1 = w1 + learning_rate * (t_o[i] - t_o) * x1[i]\n",
    "        w2 = w2 + learning_rate * (t_o[i] - t_o) * x2[i]\n",
    "        b = b + learning_rate * (t_o[i] - t_o)\n",
    "        \n",
    "        print(f\"Epoch {epoch + 1}, Input ({x1[i]}, {x2[i]}), Output {t_o}, Updated weights: w1={w1}, w2={w2}, b={b}\")\n",
    "        \n",
    "    \n",
    "    epoch += 1\n",
    "    print()\n",
    "    \n",
    "print(\"NOT\")\n",
    "while epoch <= 2:\n",
    "    for i in range(4):\n",
    "        \n",
    "        \n",
    "        w1 = w1 + learning_rate * (t_n[i] - t_n) * x1[i]\n",
    "        w2 = w2 + learning_rate * (t_n[i] - t_n) * x2[i]\n",
    "        b = b + learning_rate * (t_n[i] - t_n)\n",
    "        \n",
    "        print(f\"Epoch {epoch + 1}, Input ({x1[i]}, {x2[i]}), Output {t_n}, Updated weights: w1={w1}, w2={w2}, b={b}\")\n",
    "        \n",
    "    \n",
    "    epoch += 1\n",
    "    print()\n",
    "    "
   ]
  },
  {
   "cell_type": "code",
   "execution_count": 4,
   "id": "b96aeeba",
   "metadata": {},
   "outputs": [
    {
     "name": "stdout",
     "output_type": "stream",
     "text": [
      "Epoch 0, Input (-1, -1), Output 1, Updated weights: w1=0.1, w2=0.1, b=-0.1\n",
      "Epoch 0, Input (-1, 1), Output 0, Updated weights: w1=0.2, w2=0.0, b=-0.2\n",
      "Epoch 0, Input (1, -1), Output 1, Updated weights: w1=0.1, w2=0.1, b=-0.30000000000000004\n",
      "Epoch 0, Input (1, 1), Output 0, Updated weights: w1=0.2, w2=0.2, b=-0.20000000000000004\n",
      "\n",
      "After epoch 1:\n",
      "Input (-1, -1), Output 0.0\n",
      "Input (-1, 1), Output 0.0\n",
      "Input (1, -1), Output 0.0\n",
      "Input (1, 1), Output 1.0\n",
      "\n",
      "Epoch 1, Input (-1, -1), Output 0, Updated weights: w1=0.30000000000000004, w2=0.30000000000000004, b=-0.30000000000000004\n",
      "Epoch 1, Input (-1, 1), Output 0, Updated weights: w1=0.4, w2=0.20000000000000004, b=-0.4\n",
      "Epoch 1, Input (1, -1), Output 0, Updated weights: w1=0.30000000000000004, w2=0.30000000000000004, b=-0.5\n",
      "Epoch 1, Input (1, 1), Output 1, Updated weights: w1=0.4, w2=0.4, b=-0.4\n",
      "\n",
      "After epoch 2:\n",
      "Input (-1, -1), Output 0.0\n",
      "Input (-1, 1), Output 0.0\n",
      "Input (1, -1), Output 0.0\n",
      "Input (1, 1), Output 1.0\n",
      "\n",
      "Epoch 2, Input (-1, -1), Output 0, Updated weights: w1=0.5, w2=0.5, b=-0.5\n",
      "Epoch 2, Input (-1, 1), Output 0, Updated weights: w1=0.6, w2=0.4, b=-0.6\n",
      "Epoch 2, Input (1, -1), Output 0, Updated weights: w1=0.5, w2=0.5, b=-0.7\n",
      "Epoch 2, Input (1, 1), Output 1, Updated weights: w1=0.6, w2=0.6, b=-0.6\n",
      "\n",
      "After epoch 3:\n",
      "Input (-1, -1), Output 0.0\n",
      "Input (-1, 1), Output 0.0\n",
      "Input (1, -1), Output 0.0\n",
      "Input (1, 1), Output 1.0\n",
      "\n",
      "Epoch 3, Input (-1, -1), Output 0, Updated weights: w1=0.7, w2=0.7, b=-0.7\n",
      "Epoch 3, Input (-1, 1), Output 0, Updated weights: w1=0.7999999999999999, w2=0.6, b=-0.7999999999999999\n",
      "Epoch 3, Input (1, -1), Output 0, Updated weights: w1=0.7, w2=0.7, b=-0.8999999999999999\n",
      "Epoch 3, Input (1, 1), Output 1, Updated weights: w1=0.7999999999999999, w2=0.7999999999999999, b=-0.7999999999999999\n",
      "\n",
      "After epoch 4:\n",
      "Input (-1, -1), Output 0.0\n",
      "Input (-1, 1), Output 0.0\n",
      "Input (1, -1), Output 0.0\n",
      "Input (1, 1), Output 1.0\n",
      "\n",
      "Epoch 4, Input (-1, -1), Output 0, Updated weights: w1=0.8999999999999999, w2=0.8999999999999999, b=-0.8999999999999999\n",
      "Epoch 4, Input (-1, 1), Output 0, Updated weights: w1=0.9999999999999999, w2=0.7999999999999999, b=-0.9999999999999999\n",
      "Epoch 4, Input (1, -1), Output 0, Updated weights: w1=0.8999999999999999, w2=0.8999999999999999, b=-1.0999999999999999\n",
      "Epoch 4, Input (1, 1), Output 1, Updated weights: w1=0.9999999999999999, w2=0.9999999999999999, b=-0.9999999999999999\n",
      "\n",
      "After epoch 5:\n",
      "Input (-1, -1), Output 0.0\n",
      "Input (-1, 1), Output 0.0\n",
      "Input (1, -1), Output 0.0\n",
      "Input (1, 1), Output 1.0\n",
      "\n",
      "Epoch 5, Input (-1, -1), Output 0, Updated weights: w1=1.0999999999999999, w2=1.0999999999999999, b=-1.0999999999999999\n",
      "Epoch 5, Input (-1, 1), Output 0, Updated weights: w1=1.2, w2=0.9999999999999999, b=-1.2\n",
      "Epoch 5, Input (1, -1), Output 0, Updated weights: w1=1.0999999999999999, w2=1.0999999999999999, b=-1.3\n",
      "Epoch 5, Input (1, 1), Output 1, Updated weights: w1=1.2, w2=1.2, b=-1.2\n",
      "\n",
      "After epoch 6:\n",
      "Input (-1, -1), Output 0.0\n",
      "Input (-1, 1), Output 0.0\n",
      "Input (1, -1), Output 0.0\n",
      "Input (1, 1), Output 1.0\n",
      "\n",
      "Epoch 6, Input (-1, -1), Output 0, Updated weights: w1=1.3, w2=1.3, b=-1.3\n",
      "Epoch 6, Input (-1, 1), Output 0, Updated weights: w1=1.4000000000000001, w2=1.2, b=-1.4000000000000001\n",
      "Epoch 6, Input (1, -1), Output 0, Updated weights: w1=1.3, w2=1.3, b=-1.5000000000000002\n",
      "Epoch 6, Input (1, 1), Output 1, Updated weights: w1=1.4000000000000001, w2=1.4000000000000001, b=-1.4000000000000001\n",
      "\n",
      "After epoch 7:\n",
      "Input (-1, -1), Output 0.0\n",
      "Input (-1, 1), Output 0.0\n",
      "Input (1, -1), Output 0.0\n",
      "Input (1, 1), Output 1.0\n",
      "\n",
      "Epoch 7, Input (-1, -1), Output 0, Updated weights: w1=1.5000000000000002, w2=1.5000000000000002, b=-1.5000000000000002\n",
      "Epoch 7, Input (-1, 1), Output 0, Updated weights: w1=1.6000000000000003, w2=1.4000000000000001, b=-1.6000000000000003\n",
      "Epoch 7, Input (1, -1), Output 0, Updated weights: w1=1.5000000000000002, w2=1.5000000000000002, b=-1.7000000000000004\n",
      "Epoch 7, Input (1, 1), Output 1, Updated weights: w1=1.6000000000000003, w2=1.6000000000000003, b=-1.6000000000000003\n",
      "\n",
      "After epoch 8:\n",
      "Input (-1, -1), Output 0.0\n",
      "Input (-1, 1), Output 0.0\n",
      "Input (1, -1), Output 0.0\n",
      "Input (1, 1), Output 1.0\n",
      "\n",
      "Epoch 8, Input (-1, -1), Output 0, Updated weights: w1=1.7000000000000004, w2=1.7000000000000004, b=-1.7000000000000004\n",
      "Epoch 8, Input (-1, 1), Output 0, Updated weights: w1=1.8000000000000005, w2=1.6000000000000003, b=-1.8000000000000005\n",
      "Epoch 8, Input (1, -1), Output 0, Updated weights: w1=1.7000000000000004, w2=1.7000000000000004, b=-1.9000000000000006\n",
      "Epoch 8, Input (1, 1), Output 1, Updated weights: w1=1.8000000000000005, w2=1.8000000000000005, b=-1.8000000000000005\n",
      "\n",
      "After epoch 9:\n",
      "Input (-1, -1), Output 0.0\n",
      "Input (-1, 1), Output 0.0\n",
      "Input (1, -1), Output 0.0\n",
      "Input (1, 1), Output 1.0\n",
      "\n",
      "Epoch 9, Input (-1, -1), Output 0, Updated weights: w1=1.9000000000000006, w2=1.9000000000000006, b=-1.9000000000000006\n",
      "Epoch 9, Input (-1, 1), Output 0, Updated weights: w1=2.0000000000000004, w2=1.8000000000000005, b=-2.0000000000000004\n",
      "Epoch 9, Input (1, -1), Output 0, Updated weights: w1=1.9000000000000004, w2=1.9000000000000006, b=-2.1000000000000005\n",
      "Epoch 9, Input (1, 1), Output 1, Updated weights: w1=2.0000000000000004, w2=2.0000000000000004, b=-2.0000000000000004\n",
      "\n",
      "After epoch 10:\n",
      "Input (-1, -1), Output 0.0\n",
      "Input (-1, 1), Output 0.0\n",
      "Input (1, -1), Output 0.0\n",
      "Input (1, 1), Output 1.0\n",
      "\n"
     ]
    }
   ],
   "source": [
    "import numpy as np\n",
    "\n",
    "w1 = w2 = b = 0\n",
    "\n",
    "x1 = np.array([-1, -1, 1, 1])\n",
    "x2 = np.array([-1, 1, -1, 1])\n",
    "t = np.array([-1, -1, -1, 1])\n",
    "\n",
    "neta = 0.1\n",
    "\n",
    "epoch = 0\n",
    "v = np.zeros(4)\n",
    "y = np.zeros(4)\n",
    "\n",
    "while epoch < 10:\n",
    "    for i in range(4):\n",
    "        summation = w1 * x1[i] + w2 * x2[i] + b\n",
    "        if summation >= 0:\n",
    "            output = 1\n",
    "        else:\n",
    "            output = 0\n",
    "        \n",
    "        w1 = w1 + neta * (t[i]) * x1[i]\n",
    "        w2 = w2 + neta * (t[i]) * x2[i]\n",
    "        b = b + neta * (t[i])\n",
    "        \n",
    "        print(f\"Epoch {epoch}, Input ({x1[i]}, {x2[i]}), Output {output}, Updated weights: w1={w1}, w2={w2}, b={b}\")\n",
    "    \n",
    "    epoch += 1\n",
    "    print()\n",
    "\n",
    "    for i in range(4):\n",
    "        v[i] = w1 * x1[i] + w2 * x2[i] + b\n",
    "        if v[i] >= 0:\n",
    "            y[i] = 1\n",
    "        else:\n",
    "            y[i] = 0\n",
    "            \n",
    "    print(f\"After epoch {epoch}:\")\n",
    "    for i in range(4):\n",
    "        print(f\"Input ({x1[i]}, {x2[i]}), Output {y[i]}\")\n",
    "\n",
    "    print()"
   ]
  },
  {
   "cell_type": "code",
   "execution_count": 5,
   "id": "71ca98ef",
   "metadata": {},
   "outputs": [],
   "source": [
    "# exp 4\n",
    "import numpy as np"
   ]
  },
  {
   "cell_type": "code",
   "execution_count": 6,
   "id": "df50f271",
   "metadata": {},
   "outputs": [],
   "source": [
    "def perception(x,w,b):\n",
    "    net=np.dot(w,x)+b\n",
    "    return th(net)"
   ]
  },
  {
   "cell_type": "code",
   "execution_count": 7,
   "id": "785d3b34",
   "metadata": {},
   "outputs": [],
   "source": [
    "def th(net):\n",
    "    return 1 if net>=0 else 0"
   ]
  },
  {
   "cell_type": "code",
   "execution_count": 8,
   "id": "c41908bc",
   "metadata": {},
   "outputs": [],
   "source": [
    "def ap(x):\n",
    "    w=np.array([1,1])\n",
    "    b=-1.5\n",
    "    return perception(x,w,b)"
   ]
  },
  {
   "cell_type": "code",
   "execution_count": 9,
   "id": "07b806b4",
   "metadata": {},
   "outputs": [],
   "source": [
    "def op(x):\n",
    "    w=np.array([1,1])\n",
    "    b=-0.5\n",
    "    return perception(x,w,b)"
   ]
  },
  {
   "cell_type": "code",
   "execution_count": 10,
   "id": "8c1cc366",
   "metadata": {},
   "outputs": [],
   "source": [
    "def notp(x):\n",
    "    w=np.array([-1])\n",
    "    b=0.5\n",
    "    return perception(x,w,b)"
   ]
  },
  {
   "cell_type": "code",
   "execution_count": 11,
   "id": "d3ab5738",
   "metadata": {},
   "outputs": [],
   "source": [
    "import numpy as np\n",
    "\n",
    "at = [np.array([0,0]),\n",
    "      np.array([0,1]),\n",
    "      np.array([1,0]),\n",
    "      np.array([1,1])]\n"
   ]
  },
  {
   "cell_type": "code",
   "execution_count": 12,
   "id": "3f0254da",
   "metadata": {},
   "outputs": [],
   "source": [
    "ot=at"
   ]
  },
  {
   "cell_type": "code",
   "execution_count": 13,
   "id": "ac4dde0f",
   "metadata": {},
   "outputs": [],
   "source": [
    "nt=[np.array([0]),np.array([1])]"
   ]
  },
  {
   "cell_type": "code",
   "execution_count": 14,
   "id": "c171eff3",
   "metadata": {},
   "outputs": [
    {
     "name": "stdout",
     "output_type": "stream",
     "text": [
      "AND\n",
      "Input:[0 0], output : 0\n",
      "Input:[0 1], output : 0\n",
      "Input:[1 0], output : 0\n",
      "Input:[1 1], output : 1\n"
     ]
    }
   ],
   "source": [
    "print(\"AND\")\n",
    "for test in at:\n",
    "    r=ap(test)\n",
    "    print(f\"Input:{test}, output : {r}\")"
   ]
  },
  {
   "cell_type": "code",
   "execution_count": 15,
   "id": "80fcf01e",
   "metadata": {},
   "outputs": [
    {
     "name": "stdout",
     "output_type": "stream",
     "text": [
      "OR\n",
      "Input:[0 0], output : 0\n",
      "Input:[0 1], output : 1\n",
      "Input:[1 0], output : 1\n",
      "Input:[1 1], output : 1\n"
     ]
    }
   ],
   "source": [
    "print(\"OR\")\n",
    "for test in ot:\n",
    "    r=op(test)\n",
    "    print(f\"Input:{test}, output : {r}\")"
   ]
  },
  {
   "cell_type": "code",
   "execution_count": 16,
   "id": "a765365a",
   "metadata": {},
   "outputs": [
    {
     "name": "stdout",
     "output_type": "stream",
     "text": [
      "NOT\n",
      "Input:[0], output : 1\n",
      "Input:[1], output : 0\n"
     ]
    }
   ],
   "source": [
    "print(\"NOT\")\n",
    "for test in nt:\n",
    "    r=notp(test)\n",
    "    print(f\"Input:{test}, output : {r}\")"
   ]
  },
  {
   "cell_type": "code",
   "execution_count": null,
   "id": "74edd35a",
   "metadata": {},
   "outputs": [],
   "source": []
  }
 ],
 "metadata": {
  "kernelspec": {
   "display_name": "Python 3 (ipykernel)",
   "language": "python",
   "name": "python3"
  },
  "language_info": {
   "codemirror_mode": {
    "name": "ipython",
    "version": 3
   },
   "file_extension": ".py",
   "mimetype": "text/x-python",
   "name": "python",
   "nbconvert_exporter": "python",
   "pygments_lexer": "ipython3",
   "version": "3.12.5"
  }
 },
 "nbformat": 4,
 "nbformat_minor": 5
}
