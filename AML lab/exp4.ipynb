{
 "cells": [
  {
   "cell_type": "markdown",
   "metadata": {},
   "source": [
    "k-fold Cross Validation"
   ]
  },
  {
   "cell_type": "code",
   "execution_count": 4,
   "metadata": {},
   "outputs": [
    {
     "name": "stdout",
     "output_type": "stream",
     "text": [
      "Cross-Validation Scores: [0.96666667 0.96666667 0.96666667 0.93333333 0.83333333]\n",
      "Mean Accuracy: 0.9333333333333332\n"
     ]
    }
   ],
   "source": [
    " from sklearn.datasets import load_iris\n",
    " from sklearn.tree import DecisionTreeClassifier\n",
    " from sklearn.model_selection import KFold, cross_val_score\n",
    " import numpy as np\n",
    " # Load the Iris dataset\n",
    " iris = load_iris()\n",
    " X = iris.data\n",
    " y = iris.target\n",
    " # Initialize the Decision Tree classifier\n",
    " model = DecisionTreeClassifier()\n",
    " # Initialize K-Fold Cross-Validation\n",
    " kf = KFold(n_splits=5, shuffle=True, random_state=1)\n",
    " # Perform cross-validation\n",
    " scores = cross_val_score(model, X, y, cv=kf)\n",
    " # Print the results\n",
    " print(\"Cross-Validation Scores:\", scores)\n",
    " print(\"Mean Accuracy:\", np.mean(scores))"
   ]
  },
  {
   "cell_type": "markdown",
   "metadata": {},
   "source": [
    "Leave One Out Cross Validation"
   ]
  },
  {
   "cell_type": "code",
   "execution_count": 7,
   "metadata": {},
   "outputs": [
    {
     "name": "stdout",
     "output_type": "stream",
     "text": [
      "Number of splits: 150\n",
      "Cross-Validation Scores: [1. 1. 1. 1. 1. 1. 1. 1. 1. 1. 1. 1. 1. 1. 1. 1. 1. 1. 1. 1. 1. 1. 1. 1.\n",
      " 1. 1. 1. 1. 1. 1. 1. 1. 1. 1. 1. 1. 1. 1. 1. 1. 1. 1. 1. 1. 1. 1. 1. 1.\n",
      " 1. 1. 1. 1. 1. 1. 1. 1. 1. 1. 1. 1. 1. 1. 1. 1. 1. 1. 1. 1. 1. 1. 0. 1.\n",
      " 1. 1. 1. 1. 1. 0. 1. 1. 1. 1. 1. 0. 1. 1. 1. 1. 1. 1. 1. 1. 1. 1. 1. 1.\n",
      " 1. 1. 1. 1. 1. 1. 1. 1. 1. 1. 0. 1. 1. 1. 1. 1. 1. 1. 1. 1. 1. 1. 1. 0.\n",
      " 1. 1. 1. 1. 1. 1. 1. 1. 1. 0. 1. 1. 1. 0. 1. 1. 1. 1. 1. 1. 1. 1. 1. 1.\n",
      " 1. 1. 1. 1. 1. 1.]\n",
      "Mean Accuracy: 0.9533333333333334\n"
     ]
    }
   ],
   "source": [
    "from sklearn.datasets import load_iris\n",
    "from sklearn.model_selection import LeaveOneOut, cross_val_score\n",
    "from sklearn.tree import DecisionTreeClassifier\n",
    "import numpy as np\n",
    "\n",
    "# Load the Iris dataset\n",
    "iris = load_iris()\n",
    "X = iris.data\n",
    "y = iris.target\n",
    "\n",
    "# Initialize the Decision Tree classifier\n",
    "model = DecisionTreeClassifier()\n",
    "\n",
    "# Initialize Leave-One-Out Cross-Validation\n",
    "looc = LeaveOneOut()\n",
    "\n",
    "# Perform LOOCV\n",
    "scores = cross_val_score(model, X, y, cv=looc)\n",
    "\n",
    "# Print the results\n",
    "print(\"Number of splits:\", looc.get_n_splits(X))\n",
    "print(\"Cross-Validation Scores:\", scores)\n",
    "print(\"Mean Accuracy:\", np.mean(scores))\n"
   ]
  },
  {
   "cell_type": "markdown",
   "metadata": {},
   "source": [
    " Stratified k-fold Cross Validation"
   ]
  },
  {
   "cell_type": "code",
   "execution_count": 6,
   "metadata": {},
   "outputs": [
    {
     "name": "stdout",
     "output_type": "stream",
     "text": [
      "Cross-Validation Scores: [0.93333333 1.         0.9        1.         0.86666667]\n",
      "Mean Accuracy: 0.9400000000000001\n"
     ]
    }
   ],
   "source": [
    " from sklearn.datasets import load_iris\n",
    " from sklearn.model_selection import StratifiedKFold, cross_val_score\n",
    " from sklearn.tree import DecisionTreeClassifier\n",
    " import numpy as np\n",
    " # Load the Iris dataset\n",
    " iris = load_iris()\n",
    " X = iris.data\n",
    " y = iris.target\n",
    " # Initialize the Decision Tree classifier\n",
    " model = DecisionTreeClassifier()\n",
    " # Initialize Stratified K-Fold Cross-Validation\n",
    " skf = StratifiedKFold(n_splits=5, shuffle=True, random_state=1)\n",
    " # Perform Stratified K-Fold Cross-Validation\n",
    " scores = cross_val_score(model, X, y, cv=skf)\n",
    " # Print the results\n",
    " print(\"Cross-Validation Scores:\", scores)\n",
    " print(\"Mean Accuracy:\", np.mean(scores))"
   ]
  },
  {
   "cell_type": "code",
   "execution_count": null,
   "metadata": {},
   "outputs": [],
   "source": []
  }
 ],
 "metadata": {
  "kernelspec": {
   "display_name": "Python 3",
   "language": "python",
   "name": "python3"
  },
  "language_info": {
   "codemirror_mode": {
    "name": "ipython",
    "version": 3
   },
   "file_extension": ".py",
   "mimetype": "text/x-python",
   "name": "python",
   "nbconvert_exporter": "python",
   "pygments_lexer": "ipython3",
   "version": "3.12.5"
  }
 },
 "nbformat": 4,
 "nbformat_minor": 2
}
