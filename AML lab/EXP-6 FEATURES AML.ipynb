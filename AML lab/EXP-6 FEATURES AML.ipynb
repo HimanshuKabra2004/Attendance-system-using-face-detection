{
 "cells": [
  {
   "cell_type": "markdown",
   "id": "21612408-4c19-44db-aa72-602d1ea4dc2c",
   "metadata": {},
   "source": [
    "# ONE HOT ENCODING"
   ]
  },
  {
   "cell_type": "code",
   "execution_count": 1,
   "id": "9b71d25d-5a4a-4bfa-af78-bdae5d96b8e1",
   "metadata": {},
   "outputs": [
    {
     "name": "stdout",
     "output_type": "stream",
     "text": [
      "[[0. 0. 1.]\n",
      " [0. 1. 0.]\n",
      " [1. 0. 0.]\n",
      " [0. 1. 0.]\n",
      " [1. 0. 0.]\n",
      " [0. 0. 1.]]\n"
     ]
    }
   ],
   "source": [
    "from sklearn.preprocessing import OneHotEncoder\n",
    "# Example data\n",
    "data = [['red'], ['green'], ['blue'], ['green'], ['blue'], ['red']]\n",
    "# Initialize the encoder\n",
    "encoder = OneHotEncoder(sparse_output=False)\n",
    "# Fit and transform the data\n",
    "one_hot_encoded_data = encoder.fit_transform(data)\n",
    "print(one_hot_encoded_data)"
   ]
  },
  {
   "cell_type": "markdown",
   "id": "a78edf50-088f-4e3d-90ad-32ab9067c519",
   "metadata": {},
   "source": [
    "# ONE HOT ENCODING ON DATAFRAME"
   ]
  },
  {
   "cell_type": "code",
   "execution_count": 2,
   "id": "1006b4ab-91a4-4582-962b-01509069f575",
   "metadata": {},
   "outputs": [
    {
     "name": "stdout",
     "output_type": "stream",
     "text": [
      "   color_blue  color_green  color_red\n",
      "0       False        False       True\n",
      "1       False         True      False\n",
      "2        True        False      False\n",
      "3       False         True      False\n",
      "4        True        False      False\n",
      "5       False        False       True\n"
     ]
    }
   ],
   "source": [
    "import pandas as pd\n",
    "# Example data\n",
    "df = pd.DataFrame({'color': ['red', 'green', 'blue', 'green', 'blue', 'red']})\n",
    "# One-hot encoding\n",
    "one_hot_encoded_data = pd.get_dummies(df, columns=['color'])\n",
    "print(one_hot_encoded_data)\n"
   ]
  },
  {
   "cell_type": "markdown",
   "id": "17cc1911-b717-4ff2-8fc5-fa7804c6fe9e",
   "metadata": {},
   "source": [
    "# LOG TRANSFORMATION ON SINGLE COLUMN"
   ]
  },
  {
   "cell_type": "code",
   "execution_count": 3,
   "id": "678921e3-a2a6-41e5-a889-217c0c60d934",
   "metadata": {},
   "outputs": [
    {
     "name": "stdout",
     "output_type": "stream",
     "text": [
      "       A   B     A_log\n",
      "0      1   5  0.000000\n",
      "1     10  15  2.302585\n",
      "2    100  25  4.605170\n",
      "3   1000  35  6.907755\n",
      "4  10000  45  9.210340\n"
     ]
    }
   ],
   "source": [
    "import pandas as pd\n",
    "import numpy as np\n",
    "# Example DataFrame\n",
    "df = pd.DataFrame({\n",
    " 'A': [1, 10, 100, 1000, 10000],\n",
    " 'B': [5, 15, 25, 35, 45]\n",
    "})\n",
    "# Apply log transformation to column 'A'\n",
    "df['A_log'] = np.log(df['A'])\n",
    "print(df)"
   ]
  },
  {
   "cell_type": "markdown",
   "id": "e6ab1cad-d899-495b-b42f-8b0cc131445b",
   "metadata": {},
   "source": [
    "# NORMALIZE USING MINMAXSCALER"
   ]
  },
  {
   "cell_type": "code",
   "execution_count": 4,
   "id": "971e5ee4-80dd-4dca-b493-c3a0249e6f91",
   "metadata": {},
   "outputs": [
    {
     "name": "stdout",
     "output_type": "stream",
     "text": [
      "[[0.  ]\n",
      " [0.25]\n",
      " [0.5 ]\n",
      " [0.75]\n",
      " [1.  ]]\n"
     ]
    }
   ],
   "source": [
    "from sklearn.preprocessing import MinMaxScaler\n",
    "# Example data\n",
    "data = [[1], [2], [3], [4], [5]]\n",
    "# Initialize the scaler\n",
    "scaler = MinMaxScaler()\n",
    "# Fit and transform the data\n",
    "normalized_data = scaler.fit_transform(data)\n",
    "print(normalized_data)"
   ]
  },
  {
   "cell_type": "markdown",
   "id": "73c7c72e-8c8b-419a-8696-304260a3be17",
   "metadata": {},
   "source": [
    "# STANDARDIZATION USING STANDARDSCLAR"
   ]
  },
  {
   "cell_type": "code",
   "execution_count": 5,
   "id": "208245f7-53da-4bce-a0ae-9e3191ebc7b5",
   "metadata": {},
   "outputs": [
    {
     "name": "stdout",
     "output_type": "stream",
     "text": [
      "[[-1.41421356]\n",
      " [-0.70710678]\n",
      " [ 0.        ]\n",
      " [ 0.70710678]\n",
      " [ 1.41421356]]\n"
     ]
    }
   ],
   "source": [
    "from sklearn.preprocessing import StandardScaler\n",
    "# Example data\n",
    "data = [[1], [2], [3], [4], [5]]\n",
    "# Initialize the scaler\n",
    "scaler = StandardScaler()\n",
    "# Fit and transform the data\n",
    "standardized_data = scaler.fit_transform(data)\n",
    "print(standardized_data)"
   ]
  },
  {
   "cell_type": "code",
   "execution_count": null,
   "id": "e5b2ccc8-e87c-42b2-bcfa-a73742e9ada1",
   "metadata": {},
   "outputs": [],
   "source": []
  }
 ],
 "metadata": {
  "kernelspec": {
   "display_name": "Python 3 (ipykernel)",
   "language": "python",
   "name": "python3"
  },
  "language_info": {
   "codemirror_mode": {
    "name": "ipython",
    "version": 3
   },
   "file_extension": ".py",
   "mimetype": "text/x-python",
   "name": "python",
   "nbconvert_exporter": "python",
   "pygments_lexer": "ipython3",
   "version": "3.11.7"
  }
 },
 "nbformat": 4,
 "nbformat_minor": 5
}
